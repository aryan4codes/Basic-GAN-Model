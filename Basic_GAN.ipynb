{
  "nbformat": 4,
  "nbformat_minor": 0,
  "metadata": {
    "colab": {
      "provenance": [],
      "authorship_tag": "ABX9TyM2YPHVRcRYAkXpZcX6+e8y",
      "include_colab_link": true
    },
    "kernelspec": {
      "name": "python3",
      "display_name": "Python 3"
    },
    "language_info": {
      "name": "python"
    }
  },
  "cells": [
    {
      "cell_type": "markdown",
      "metadata": {
        "id": "view-in-github",
        "colab_type": "text"
      },
      "source": [
        "<a href=\"https://colab.research.google.com/github/aryan4codes/Basic-GAN-Model/blob/main/Basic_GAN.ipynb\" target=\"_parent\"><img src=\"https://colab.research.google.com/assets/colab-badge.svg\" alt=\"Open In Colab\"/></a>"
      ]
    },
    {
      "cell_type": "code",
      "execution_count": null,
      "metadata": {
        "id": "CZazUpWurifF"
      },
      "outputs": [],
      "source": []
    },
    {
      "cell_type": "code",
      "source": [
        "from google.colab import drive\n",
        "drive.mount('/content/drive')"
      ],
      "metadata": {
        "colab": {
          "base_uri": "https://localhost:8080/"
        },
        "id": "vQ7oC3cFrndx",
        "outputId": "61eba4ec-0993-4fcb-e421-ac66d7b5d94a"
      },
      "execution_count": 1,
      "outputs": [
        {
          "output_type": "stream",
          "name": "stdout",
          "text": [
            "Mounted at /content/drive\n"
          ]
        }
      ]
    },
    {
      "cell_type": "code",
      "source": [
        "import torch,pdb\n",
        "from torch.utils.data import DataLoader\n",
        "from torch import nn\n",
        "from torchvision import transforms\n",
        "from torchvision.datasets import MNIST\n",
        "from torchvision.utils import make_grid\n",
        "from tqdm.auto import tqdm\n",
        "import matplotlib.pyplot as plt"
      ],
      "metadata": {
        "id": "Y_r0ilaqroWE"
      },
      "execution_count": 3,
      "outputs": []
    },
    {
      "cell_type": "code",
      "source": [
        "#Visualization function\n",
        "\n",
        "def show(tensor,ch=1, size=(20,20),num=16):\n",
        "\n",
        "  # tensor = 128 x 784  (128 img batch)\n",
        "  data=tensor.detach().cpu().view(-1,ch,*size)\n",
        "\n",
        "  grid = make_grid(data[:num], nrows=4).permute(1,2,0)\n",
        "  plt.imshow(grid)\n",
        "  plt.show()"
      ],
      "metadata": {
        "id": "T-VGO8xosi5B"
      },
      "execution_count": 4,
      "outputs": []
    },
    {
      "cell_type": "code",
      "source": [
        "#parameters\n",
        "\n",
        "epochs = 500\n",
        "cur_step=0\n",
        "info_step= 300\n",
        "\n",
        "mean_gen_loss= 0\n",
        "mean_disc_loss=0\n",
        "\n",
        "z_dim = 64\n",
        "lr = 0.00001 #learning rate\n",
        "loss_func= nn.BCEWithLogitsLoss()\n",
        "\n",
        "bs = 128 #batch size\n",
        "\n",
        "device= 'cuda'\n",
        "dataloader= DataLoader(MNIST('.',download=True,transform=transforms.ToTensor()),shuffle=True,batch_size=bs)\n",
        "\n"
      ],
      "metadata": {
        "colab": {
          "base_uri": "https://localhost:8080/"
        },
        "id": "BzyGMRERtpMm",
        "outputId": "4fbebf95-5d5a-4b07-b4f0-069f3d0a50d8"
      },
      "execution_count": 6,
      "outputs": [
        {
          "output_type": "stream",
          "name": "stdout",
          "text": [
            "Downloading http://yann.lecun.com/exdb/mnist/train-images-idx3-ubyte.gz\n",
            "Downloading http://yann.lecun.com/exdb/mnist/train-images-idx3-ubyte.gz to ./MNIST/raw/train-images-idx3-ubyte.gz\n"
          ]
        },
        {
          "output_type": "stream",
          "name": "stderr",
          "text": [
            "100%|██████████| 9912422/9912422 [00:00<00:00, 102545935.22it/s]\n"
          ]
        },
        {
          "output_type": "stream",
          "name": "stdout",
          "text": [
            "Extracting ./MNIST/raw/train-images-idx3-ubyte.gz to ./MNIST/raw\n",
            "\n",
            "Downloading http://yann.lecun.com/exdb/mnist/train-labels-idx1-ubyte.gz\n",
            "Downloading http://yann.lecun.com/exdb/mnist/train-labels-idx1-ubyte.gz to ./MNIST/raw/train-labels-idx1-ubyte.gz\n"
          ]
        },
        {
          "output_type": "stream",
          "name": "stderr",
          "text": [
            "100%|██████████| 28881/28881 [00:00<00:00, 40841434.20it/s]\n"
          ]
        },
        {
          "output_type": "stream",
          "name": "stdout",
          "text": [
            "Extracting ./MNIST/raw/train-labels-idx1-ubyte.gz to ./MNIST/raw\n",
            "\n",
            "Downloading http://yann.lecun.com/exdb/mnist/t10k-images-idx3-ubyte.gz\n",
            "Downloading http://yann.lecun.com/exdb/mnist/t10k-images-idx3-ubyte.gz to ./MNIST/raw/t10k-images-idx3-ubyte.gz\n"
          ]
        },
        {
          "output_type": "stream",
          "name": "stderr",
          "text": [
            "100%|██████████| 1648877/1648877 [00:00<00:00, 30647667.69it/s]\n"
          ]
        },
        {
          "output_type": "stream",
          "name": "stdout",
          "text": [
            "Extracting ./MNIST/raw/t10k-images-idx3-ubyte.gz to ./MNIST/raw\n",
            "\n",
            "Downloading http://yann.lecun.com/exdb/mnist/t10k-labels-idx1-ubyte.gz\n",
            "Downloading http://yann.lecun.com/exdb/mnist/t10k-labels-idx1-ubyte.gz to ./MNIST/raw/t10k-labels-idx1-ubyte.gz\n"
          ]
        },
        {
          "output_type": "stream",
          "name": "stderr",
          "text": [
            "100%|██████████| 4542/4542 [00:00<00:00, 13804730.99it/s]\n"
          ]
        },
        {
          "output_type": "stream",
          "name": "stdout",
          "text": [
            "Extracting ./MNIST/raw/t10k-labels-idx1-ubyte.gz to ./MNIST/raw\n",
            "\n"
          ]
        }
      ]
    },
    {
      "cell_type": "markdown",
      "source": [
        "## Declaring Models  "
      ],
      "metadata": {
        "id": "7ctzodmAxR4y"
      }
    },
    {
      "cell_type": "markdown",
      "source": [
        "### 1. Generator"
      ],
      "metadata": {
        "id": "RKcclcYZxV32"
      }
    },
    {
      "cell_type": "code",
      "source": [
        "def genBlock(inp,out):\n",
        "  return nn.Sequential(\n",
        "      nn.Linear(inp,out),\n",
        "      nn.BatchNorm1d(out),\n",
        "      nn.ReLU(inplace=True)\n",
        "  )\n",
        "\n",
        "  class Generator(nn,Module):\n",
        "    def __init__(self,z_dim=64, i_dim= 784, h_dim=128):\n",
        "      super().__init__()\n",
        "\n",
        "      self_gen = nn.Sequential(\n",
        "          genBlock(z_dim,h_dim),\n",
        "          genBlock(h_dim,h_dim*2),\n",
        "          genBlock(h_dim*2,h_dim*4),\n",
        "          genBlock(h_dim*4,h_dim*8),\n",
        "          genBlock(h_dim*8,i_dim), #1024 x 728 ( 28x28)\n",
        "          nn.Sigmoid() #To get values from 0 to 1\n",
        "                )\n",
        "\n",
        "\n",
        "      def forward(self,noise):\n",
        "        return self.gen(noise)\n",
        "\n",
        "\n",
        "      def gen_noise(number,z_dim):\n",
        "        return touch.randn(number,z_dim).to(device)"
      ],
      "metadata": {
        "id": "v4oTUW10xFZ7"
      },
      "execution_count": 11,
      "outputs": []
    },
    {
      "cell_type": "code",
      "source": [],
      "metadata": {
        "id": "9lu67T24xdT9"
      },
      "execution_count": null,
      "outputs": []
    }
  ]
}